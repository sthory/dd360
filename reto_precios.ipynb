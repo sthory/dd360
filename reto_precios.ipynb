{
 "cells": [
  {
   "cell_type": "code",
   "execution_count": 1,
   "id": "89d76470-3b22-47ab-b1f5-9dfe14a9648e",
   "metadata": {},
   "outputs": [],
   "source": [
    "import pandas as pd\n",
    "import matplotlib.pyplot as plt\n",
    "import seaborn as sns\n",
    "from sklearn import preprocessing\n",
    "from sklearn.feature_selection import SelectKBest\n",
    "from sklearn.feature_selection import f_regression\n",
    "from sklearn.model_selection import train_test_split\n",
    "import numpy as np"
   ]
  },
  {
   "cell_type": "code",
   "execution_count": 2,
   "id": "d16dd83f-c534-4f1b-af32-8ee336ccad92",
   "metadata": {},
   "outputs": [],
   "source": [
    "import warnings\n",
    "warnings.filterwarnings('ignore')"
   ]
  },
  {
   "cell_type": "markdown",
   "id": "a48a8287-104f-4789-8ed1-0408372a9ad2",
   "metadata": {},
   "source": [
    "# 1. Exploratory Data Analisys - EDA"
   ]
  },
  {
   "cell_type": "code",
   "execution_count": 3,
   "id": "7528c54b-ebfc-4b5e-9f5a-5db0adb35e82",
   "metadata": {},
   "outputs": [],
   "source": [
    "df = pd.read_csv(\"reto_precios.csv\")"
   ]
  },
  {
   "cell_type": "code",
   "execution_count": 4,
   "id": "b1584bb7-897e-480d-8a2a-f4ac3ffdc007",
   "metadata": {},
   "outputs": [
    {
     "data": {
      "text/html": [
       "<div>\n",
       "<style scoped>\n",
       "    .dataframe tbody tr th:only-of-type {\n",
       "        vertical-align: middle;\n",
       "    }\n",
       "\n",
       "    .dataframe tbody tr th {\n",
       "        vertical-align: top;\n",
       "    }\n",
       "\n",
       "    .dataframe thead th {\n",
       "        text-align: right;\n",
       "    }\n",
       "</style>\n",
       "<table border=\"1\" class=\"dataframe\">\n",
       "  <thead>\n",
       "    <tr style=\"text-align: right;\">\n",
       "      <th></th>\n",
       "      <th>main_name</th>\n",
       "      <th>subtitle</th>\n",
       "      <th>link</th>\n",
       "      <th>location</th>\n",
       "      <th>price</th>\n",
       "      <th>attributes</th>\n",
       "      <th>timestamp</th>\n",
       "      <th>id</th>\n",
       "      <th>address</th>\n",
       "      <th>since</th>\n",
       "      <th>...</th>\n",
       "      <th>apartments_per_floor</th>\n",
       "      <th>disposition</th>\n",
       "      <th>parking_lots</th>\n",
       "      <th>floor_situated</th>\n",
       "      <th>orientation</th>\n",
       "      <th>num_bedrooms</th>\n",
       "      <th>department_type</th>\n",
       "      <th>m2</th>\n",
       "      <th>final_price</th>\n",
       "      <th>price_square_meter</th>\n",
       "    </tr>\n",
       "  </thead>\n",
       "  <tbody>\n",
       "    <tr>\n",
       "      <th>0</th>\n",
       "      <td>Departamento - Roma Norte</td>\n",
       "      <td>Departamento en venta</td>\n",
       "      <td>https://departamento.metroscubicos.com/MLM-139...</td>\n",
       "      <td>Sinaloa 20 , Roma Sur, Roma Sur, Cuauhtémoc, D...</td>\n",
       "      <td>9000000 pesos</td>\n",
       "      <td>127 m² construidos,2 recs.</td>\n",
       "      <td>2022-03-29</td>\n",
       "      <td>1</td>\n",
       "      <td>Sinaloa 20 , Roma Sur</td>\n",
       "      <td>Publicado hace 5 días</td>\n",
       "      <td>...</td>\n",
       "      <td>NaN</td>\n",
       "      <td>Contrafrente</td>\n",
       "      <td>2</td>\n",
       "      <td>NaN</td>\n",
       "      <td>NaN</td>\n",
       "      <td>2.0</td>\n",
       "      <td>NaN</td>\n",
       "      <td>127.0</td>\n",
       "      <td>9000000.0</td>\n",
       "      <td>70866.141732</td>\n",
       "    </tr>\n",
       "    <tr>\n",
       "      <th>1</th>\n",
       "      <td>Preventa Exclusiva · Terraloza Roma Norte ·</td>\n",
       "      <td>Departamento en venta</td>\n",
       "      <td>https://departamento.metroscubicos.com/MLM-139...</td>\n",
       "      <td>Tonala, Roma Norte, Cuauhtémoc, Distrito Federal</td>\n",
       "      <td>4264000 pesos</td>\n",
       "      <td>54 m² construidos,1 rec.</td>\n",
       "      <td>2022-03-29</td>\n",
       "      <td>2</td>\n",
       "      <td>Tonala</td>\n",
       "      <td>Publicado hace 7 días</td>\n",
       "      <td>...</td>\n",
       "      <td>NaN</td>\n",
       "      <td>NaN</td>\n",
       "      <td>1</td>\n",
       "      <td>NaN</td>\n",
       "      <td>NaN</td>\n",
       "      <td>1.0</td>\n",
       "      <td>NaN</td>\n",
       "      <td>54.0</td>\n",
       "      <td>4264000.0</td>\n",
       "      <td>78962.962963</td>\n",
       "    </tr>\n",
       "  </tbody>\n",
       "</table>\n",
       "<p>2 rows × 35 columns</p>\n",
       "</div>"
      ],
      "text/plain": [
       "                                     main_name               subtitle  \\\n",
       "0                    Departamento - Roma Norte  Departamento en venta   \n",
       "1  Preventa Exclusiva · Terraloza Roma Norte ·  Departamento en venta   \n",
       "\n",
       "                                                link  \\\n",
       "0  https://departamento.metroscubicos.com/MLM-139...   \n",
       "1  https://departamento.metroscubicos.com/MLM-139...   \n",
       "\n",
       "                                            location          price  \\\n",
       "0  Sinaloa 20 , Roma Sur, Roma Sur, Cuauhtémoc, D...  9000000 pesos   \n",
       "1   Tonala, Roma Norte, Cuauhtémoc, Distrito Federal  4264000 pesos   \n",
       "\n",
       "                   attributes   timestamp  id                address  \\\n",
       "0  127 m² construidos,2 recs.  2022-03-29   1  Sinaloa 20 , Roma Sur   \n",
       "1    54 m² construidos,1 rec.  2022-03-29   2                 Tonala   \n",
       "\n",
       "                   since  ... apartments_per_floor   disposition  \\\n",
       "0  Publicado hace 5 días  ...                  NaN  Contrafrente   \n",
       "1  Publicado hace 7 días  ...                  NaN           NaN   \n",
       "\n",
       "   parking_lots  floor_situated  orientation num_bedrooms department_type  \\\n",
       "0             2             NaN          NaN          2.0             NaN   \n",
       "1             1             NaN          NaN          1.0             NaN   \n",
       "\n",
       "      m2  final_price  price_square_meter  \n",
       "0  127.0    9000000.0        70866.141732  \n",
       "1   54.0    4264000.0        78962.962963  \n",
       "\n",
       "[2 rows x 35 columns]"
      ]
     },
     "execution_count": 4,
     "metadata": {},
     "output_type": "execute_result"
    }
   ],
   "source": [
    "df.head(2)"
   ]
  },
  {
   "cell_type": "code",
   "execution_count": 5,
   "id": "cea134b9-fa56-4f0c-80f5-6a29aa8edd8b",
   "metadata": {},
   "outputs": [
    {
     "data": {
      "text/plain": [
       "981"
      ]
     },
     "execution_count": 5,
     "metadata": {},
     "output_type": "execute_result"
    }
   ],
   "source": [
    "len(df)"
   ]
  },
  {
   "cell_type": "markdown",
   "id": "23da89c5-17d0-4055-80c3-ec5632c5c29c",
   "metadata": {},
   "source": [
    "#### 1.1 Handling null values"
   ]
  },
  {
   "cell_type": "code",
   "execution_count": 6,
   "id": "1f95bab7-2145-45e9-bda0-9e6274c41299",
   "metadata": {},
   "outputs": [
    {
     "name": "stdout",
     "output_type": "stream",
     "text": [
      "<class 'pandas.core.frame.DataFrame'>\n",
      "RangeIndex: 981 entries, 0 to 980\n",
      "Data columns (total 35 columns):\n",
      " #   Column                Non-Null Count  Dtype  \n",
      "---  ------                --------------  -----  \n",
      " 0   main_name             981 non-null    object \n",
      " 1   subtitle              981 non-null    object \n",
      " 2   link                  981 non-null    object \n",
      " 3   location              981 non-null    object \n",
      " 4   price                 981 non-null    object \n",
      " 5   attributes            981 non-null    object \n",
      " 6   timestamp             981 non-null    object \n",
      " 7   id                    981 non-null    int64  \n",
      " 8   address               702 non-null    object \n",
      " 9   since                 981 non-null    object \n",
      " 10  description           981 non-null    object \n",
      " 11  vendor                981 non-null    object \n",
      " 12  lat                   981 non-null    float64\n",
      " 13  lon                   981 non-null    float64\n",
      " 14  price_mod             981 non-null    float64\n",
      " 15  price_currency        981 non-null    object \n",
      " 16  since_period          981 non-null    object \n",
      " 17  since_value           981 non-null    int64  \n",
      " 18  days_on_site          981 non-null    float64\n",
      " 19  amenities             504 non-null    float64\n",
      " 20  age_in_years          981 non-null    float64\n",
      " 21  bathrooms             981 non-null    float64\n",
      " 22  cellars               52 non-null     float64\n",
      " 23  num_floors            84 non-null     float64\n",
      " 24  monthly_fee           128 non-null    object \n",
      " 25  apartments_per_floor  15 non-null     float64\n",
      " 26  disposition           20 non-null     object \n",
      " 27  parking_lots          981 non-null    int64  \n",
      " 28  floor_situated        24 non-null     float64\n",
      " 29  orientation           8 non-null      object \n",
      " 30  num_bedrooms          981 non-null    float64\n",
      " 31  department_type       39 non-null     object \n",
      " 32  m2                    981 non-null    float64\n",
      " 33  final_price           981 non-null    float64\n",
      " 34  price_square_meter    981 non-null    float64\n",
      "dtypes: float64(15), int64(3), object(17)\n",
      "memory usage: 268.4+ KB\n"
     ]
    }
   ],
   "source": [
    "df.info()"
   ]
  },
  {
   "cell_type": "markdown",
   "id": "e7684c4d-94d8-4831-ba39-4198d1e0af93",
   "metadata": {},
   "source": [
    "Los siguientes campos tienen una cantidad de registros nulos muy elevada:\n",
    "    \n",
    "    - cellars              -> 929 -> 94.69% de registros nulos\n",
    "    - num_floors           -> 897 -> 91.43% de registros nulos\n",
    "    - monthly_fee          -> 853 -> 86.95% de registros nulos\n",
    "    - apartments_per_floor -> 966 -> 98.47% de registros nulos\n",
    "    - disposition          -> 961 -> 97.96% de registros nulos\n",
    "    - floor_situated       -> 957 -> 97.55% de registros nulos\n",
    "    - orientation          -> 973 -> 99.18% de registros nulos\n",
    "    - department_type      -> 942 -> 96.02% de registros nulos\n",
    "\n",
    "Para el prersente análisis se procederá a descartarlos, pero sería interesante estudiarlos (en otro análisis) ya que podrían representar algún tipo de tendencia."
   ]
  },
  {
   "cell_type": "code",
   "execution_count": 7,
   "id": "99c3de5c-fe97-46ff-9ded-c9d3715302b1",
   "metadata": {},
   "outputs": [],
   "source": [
    "fields = ['main_name', 'subtitle', 'link', 'location', 'price', 'attributes',\n",
    "       'timestamp', 'id', 'address', 'since', 'description', 'vendor', 'lat',\n",
    "       'lon', 'price_mod', 'price_currency', 'since_period', 'since_value',\n",
    "       'days_on_site', 'amenities', 'age_in_years', 'bathrooms', 'parking_lots',\n",
    "       'num_bedrooms', 'm2', 'final_price', 'price_square_meter']"
   ]
  },
  {
   "cell_type": "code",
   "execution_count": 8,
   "id": "2a30e3d5-3289-4699-830f-2531a25fd243",
   "metadata": {},
   "outputs": [],
   "source": [
    "df = df[fields]"
   ]
  },
  {
   "cell_type": "code",
   "execution_count": 9,
   "id": "7c452df3-daf3-43e2-9885-1ff382a26414",
   "metadata": {},
   "outputs": [
    {
     "name": "stdout",
     "output_type": "stream",
     "text": [
      "<class 'pandas.core.frame.DataFrame'>\n",
      "RangeIndex: 981 entries, 0 to 980\n",
      "Data columns (total 27 columns):\n",
      " #   Column              Non-Null Count  Dtype  \n",
      "---  ------              --------------  -----  \n",
      " 0   main_name           981 non-null    object \n",
      " 1   subtitle            981 non-null    object \n",
      " 2   link                981 non-null    object \n",
      " 3   location            981 non-null    object \n",
      " 4   price               981 non-null    object \n",
      " 5   attributes          981 non-null    object \n",
      " 6   timestamp           981 non-null    object \n",
      " 7   id                  981 non-null    int64  \n",
      " 8   address             702 non-null    object \n",
      " 9   since               981 non-null    object \n",
      " 10  description         981 non-null    object \n",
      " 11  vendor              981 non-null    object \n",
      " 12  lat                 981 non-null    float64\n",
      " 13  lon                 981 non-null    float64\n",
      " 14  price_mod           981 non-null    float64\n",
      " 15  price_currency      981 non-null    object \n",
      " 16  since_period        981 non-null    object \n",
      " 17  since_value         981 non-null    int64  \n",
      " 18  days_on_site        981 non-null    float64\n",
      " 19  amenities           504 non-null    float64\n",
      " 20  age_in_years        981 non-null    float64\n",
      " 21  bathrooms           981 non-null    float64\n",
      " 22  parking_lots        981 non-null    int64  \n",
      " 23  num_bedrooms        981 non-null    float64\n",
      " 24  m2                  981 non-null    float64\n",
      " 25  final_price         981 non-null    float64\n",
      " 26  price_square_meter  981 non-null    float64\n",
      "dtypes: float64(11), int64(3), object(13)\n",
      "memory usage: 207.1+ KB\n"
     ]
    }
   ],
   "source": [
    "df.info()"
   ]
  },
  {
   "cell_type": "markdown",
   "id": "ac74ed80-1012-4be6-aa89-8960e9f9a990",
   "metadata": {},
   "source": [
    "Aún nos quedan dos campos con registros nulos, ellos son:\n",
    "\n",
    "    - address ->   279 -> 28.44% de registros nulos\n",
    "    - amenities -> 477 -> 48.62% de registros nulos\n",
    "    \n",
    "- Para el campo de address, se asignará el valor de espacio en blanco para reemplazar los valores nulos.\n",
    "- Para el campo de amenities, se asignara el valor mas común de esa columna para reemplazar los valores nulos."
   ]
  },
  {
   "cell_type": "code",
   "execution_count": 10,
   "id": "facdc4fc-772a-4ec3-91a3-96cc723f41eb",
   "metadata": {},
   "outputs": [],
   "source": [
    "df['address'] = df['address'].fillna(\" \")"
   ]
  },
  {
   "cell_type": "code",
   "execution_count": 11,
   "id": "9fb30175-d1d6-4034-a0fc-69b5a1735989",
   "metadata": {},
   "outputs": [],
   "source": [
    "df['amenities'] = df['amenities'].fillna(df['amenities'].mode().iloc[0])"
   ]
  },
  {
   "cell_type": "code",
   "execution_count": 12,
   "id": "eb9c0e50-72fb-404a-8fa9-d59d8a01e682",
   "metadata": {},
   "outputs": [
    {
     "name": "stdout",
     "output_type": "stream",
     "text": [
      "<class 'pandas.core.frame.DataFrame'>\n",
      "RangeIndex: 981 entries, 0 to 980\n",
      "Data columns (total 27 columns):\n",
      " #   Column              Non-Null Count  Dtype  \n",
      "---  ------              --------------  -----  \n",
      " 0   main_name           981 non-null    object \n",
      " 1   subtitle            981 non-null    object \n",
      " 2   link                981 non-null    object \n",
      " 3   location            981 non-null    object \n",
      " 4   price               981 non-null    object \n",
      " 5   attributes          981 non-null    object \n",
      " 6   timestamp           981 non-null    object \n",
      " 7   id                  981 non-null    int64  \n",
      " 8   address             981 non-null    object \n",
      " 9   since               981 non-null    object \n",
      " 10  description         981 non-null    object \n",
      " 11  vendor              981 non-null    object \n",
      " 12  lat                 981 non-null    float64\n",
      " 13  lon                 981 non-null    float64\n",
      " 14  price_mod           981 non-null    float64\n",
      " 15  price_currency      981 non-null    object \n",
      " 16  since_period        981 non-null    object \n",
      " 17  since_value         981 non-null    int64  \n",
      " 18  days_on_site        981 non-null    float64\n",
      " 19  amenities           981 non-null    float64\n",
      " 20  age_in_years        981 non-null    float64\n",
      " 21  bathrooms           981 non-null    float64\n",
      " 22  parking_lots        981 non-null    int64  \n",
      " 23  num_bedrooms        981 non-null    float64\n",
      " 24  m2                  981 non-null    float64\n",
      " 25  final_price         981 non-null    float64\n",
      " 26  price_square_meter  981 non-null    float64\n",
      "dtypes: float64(11), int64(3), object(13)\n",
      "memory usage: 207.1+ KB\n"
     ]
    }
   ],
   "source": [
    "df.info()"
   ]
  },
  {
   "cell_type": "markdown",
   "id": "133535e6-70ad-4733-87a6-09d96e4ab81d",
   "metadata": {},
   "source": [
    "Ya no tenemos registros con valores nulos"
   ]
  },
  {
   "cell_type": "markdown",
   "id": "37a3b1b6-64bd-4e8a-818c-13967caf47b7",
   "metadata": {},
   "source": [
    "#### Ahora vemos las estadísticas de nuestros datos"
   ]
  },
  {
   "cell_type": "code",
   "execution_count": 13,
   "id": "12613a10-60a2-46d4-86ea-74cf6778eeff",
   "metadata": {},
   "outputs": [
    {
     "data": {
      "text/html": [
       "<div>\n",
       "<style scoped>\n",
       "    .dataframe tbody tr th:only-of-type {\n",
       "        vertical-align: middle;\n",
       "    }\n",
       "\n",
       "    .dataframe tbody tr th {\n",
       "        vertical-align: top;\n",
       "    }\n",
       "\n",
       "    .dataframe thead th {\n",
       "        text-align: right;\n",
       "    }\n",
       "</style>\n",
       "<table border=\"1\" class=\"dataframe\">\n",
       "  <thead>\n",
       "    <tr style=\"text-align: right;\">\n",
       "      <th></th>\n",
       "      <th>id</th>\n",
       "      <th>lat</th>\n",
       "      <th>lon</th>\n",
       "      <th>price_mod</th>\n",
       "      <th>since_value</th>\n",
       "      <th>days_on_site</th>\n",
       "      <th>amenities</th>\n",
       "      <th>age_in_years</th>\n",
       "      <th>bathrooms</th>\n",
       "      <th>parking_lots</th>\n",
       "      <th>num_bedrooms</th>\n",
       "      <th>m2</th>\n",
       "      <th>final_price</th>\n",
       "      <th>price_square_meter</th>\n",
       "    </tr>\n",
       "  </thead>\n",
       "  <tbody>\n",
       "    <tr>\n",
       "      <th>count</th>\n",
       "      <td>981.000000</td>\n",
       "      <td>981.000000</td>\n",
       "      <td>981.000000</td>\n",
       "      <td>9.810000e+02</td>\n",
       "      <td>981.000000</td>\n",
       "      <td>981.000000</td>\n",
       "      <td>981.000000</td>\n",
       "      <td>981.0</td>\n",
       "      <td>981.000000</td>\n",
       "      <td>981.000000</td>\n",
       "      <td>981.000000</td>\n",
       "      <td>981.000000</td>\n",
       "      <td>9.810000e+02</td>\n",
       "      <td>981.000000</td>\n",
       "    </tr>\n",
       "    <tr>\n",
       "      <th>mean</th>\n",
       "      <td>494.465851</td>\n",
       "      <td>19.654796</td>\n",
       "      <td>-99.222834</td>\n",
       "      <td>6.144620e+06</td>\n",
       "      <td>15.589195</td>\n",
       "      <td>103.478084</td>\n",
       "      <td>4.041794</td>\n",
       "      <td>0.0</td>\n",
       "      <td>1.970438</td>\n",
       "      <td>1.331295</td>\n",
       "      <td>2.103976</td>\n",
       "      <td>111.824608</td>\n",
       "      <td>6.144620e+06</td>\n",
       "      <td>61048.999248</td>\n",
       "    </tr>\n",
       "    <tr>\n",
       "      <th>std</th>\n",
       "      <td>284.137165</td>\n",
       "      <td>1.244009</td>\n",
       "      <td>0.608650</td>\n",
       "      <td>2.907089e+06</td>\n",
       "      <td>16.551510</td>\n",
       "      <td>116.789698</td>\n",
       "      <td>0.906488</td>\n",
       "      <td>0.0</td>\n",
       "      <td>0.887638</td>\n",
       "      <td>0.481631</td>\n",
       "      <td>0.627104</td>\n",
       "      <td>231.604294</td>\n",
       "      <td>2.907089e+06</td>\n",
       "      <td>19327.439701</td>\n",
       "    </tr>\n",
       "    <tr>\n",
       "      <th>min</th>\n",
       "      <td>1.000000</td>\n",
       "      <td>19.360533</td>\n",
       "      <td>-117.063962</td>\n",
       "      <td>6.342170e+05</td>\n",
       "      <td>1.000000</td>\n",
       "      <td>1.000000</td>\n",
       "      <td>1.000000</td>\n",
       "      <td>0.0</td>\n",
       "      <td>1.000000</td>\n",
       "      <td>1.000000</td>\n",
       "      <td>1.000000</td>\n",
       "      <td>31.000000</td>\n",
       "      <td>6.342170e+05</td>\n",
       "      <td>582.246879</td>\n",
       "    </tr>\n",
       "    <tr>\n",
       "      <th>25%</th>\n",
       "      <td>250.000000</td>\n",
       "      <td>19.405824</td>\n",
       "      <td>-99.165172</td>\n",
       "      <td>4.330000e+06</td>\n",
       "      <td>3.000000</td>\n",
       "      <td>31.000000</td>\n",
       "      <td>4.000000</td>\n",
       "      <td>0.0</td>\n",
       "      <td>2.000000</td>\n",
       "      <td>1.000000</td>\n",
       "      <td>2.000000</td>\n",
       "      <td>75.000000</td>\n",
       "      <td>4.330000e+06</td>\n",
       "      <td>52294.117647</td>\n",
       "    </tr>\n",
       "    <tr>\n",
       "      <th>50%</th>\n",
       "      <td>495.000000</td>\n",
       "      <td>19.411515</td>\n",
       "      <td>-99.163637</td>\n",
       "      <td>5.511689e+06</td>\n",
       "      <td>7.000000</td>\n",
       "      <td>59.000000</td>\n",
       "      <td>4.000000</td>\n",
       "      <td>0.0</td>\n",
       "      <td>2.000000</td>\n",
       "      <td>1.000000</td>\n",
       "      <td>2.000000</td>\n",
       "      <td>93.000000</td>\n",
       "      <td>5.511689e+06</td>\n",
       "      <td>61271.466667</td>\n",
       "    </tr>\n",
       "    <tr>\n",
       "      <th>75%</th>\n",
       "      <td>740.000000</td>\n",
       "      <td>19.419526</td>\n",
       "      <td>-99.161332</td>\n",
       "      <td>7.700000e+06</td>\n",
       "      <td>31.000000</td>\n",
       "      <td>120.000000</td>\n",
       "      <td>4.000000</td>\n",
       "      <td>0.0</td>\n",
       "      <td>2.000000</td>\n",
       "      <td>2.000000</td>\n",
       "      <td>2.000000</td>\n",
       "      <td>129.000000</td>\n",
       "      <td>7.700000e+06</td>\n",
       "      <td>70175.438596</td>\n",
       "    </tr>\n",
       "    <tr>\n",
       "      <th>max</th>\n",
       "      <td>985.000000</td>\n",
       "      <td>32.528726</td>\n",
       "      <td>-99.128642</td>\n",
       "      <td>2.233000e+07</td>\n",
       "      <td>59.000000</td>\n",
       "      <td>730.000000</td>\n",
       "      <td>8.000000</td>\n",
       "      <td>0.0</td>\n",
       "      <td>23.000000</td>\n",
       "      <td>3.000000</td>\n",
       "      <td>4.000000</td>\n",
       "      <td>7210.000000</td>\n",
       "      <td>2.233000e+07</td>\n",
       "      <td>150514.818182</td>\n",
       "    </tr>\n",
       "  </tbody>\n",
       "</table>\n",
       "</div>"
      ],
      "text/plain": [
       "               id         lat         lon     price_mod  since_value  \\\n",
       "count  981.000000  981.000000  981.000000  9.810000e+02   981.000000   \n",
       "mean   494.465851   19.654796  -99.222834  6.144620e+06    15.589195   \n",
       "std    284.137165    1.244009    0.608650  2.907089e+06    16.551510   \n",
       "min      1.000000   19.360533 -117.063962  6.342170e+05     1.000000   \n",
       "25%    250.000000   19.405824  -99.165172  4.330000e+06     3.000000   \n",
       "50%    495.000000   19.411515  -99.163637  5.511689e+06     7.000000   \n",
       "75%    740.000000   19.419526  -99.161332  7.700000e+06    31.000000   \n",
       "max    985.000000   32.528726  -99.128642  2.233000e+07    59.000000   \n",
       "\n",
       "       days_on_site   amenities  age_in_years   bathrooms  parking_lots  \\\n",
       "count    981.000000  981.000000         981.0  981.000000    981.000000   \n",
       "mean     103.478084    4.041794           0.0    1.970438      1.331295   \n",
       "std      116.789698    0.906488           0.0    0.887638      0.481631   \n",
       "min        1.000000    1.000000           0.0    1.000000      1.000000   \n",
       "25%       31.000000    4.000000           0.0    2.000000      1.000000   \n",
       "50%       59.000000    4.000000           0.0    2.000000      1.000000   \n",
       "75%      120.000000    4.000000           0.0    2.000000      2.000000   \n",
       "max      730.000000    8.000000           0.0   23.000000      3.000000   \n",
       "\n",
       "       num_bedrooms           m2   final_price  price_square_meter  \n",
       "count    981.000000   981.000000  9.810000e+02          981.000000  \n",
       "mean       2.103976   111.824608  6.144620e+06        61048.999248  \n",
       "std        0.627104   231.604294  2.907089e+06        19327.439701  \n",
       "min        1.000000    31.000000  6.342170e+05          582.246879  \n",
       "25%        2.000000    75.000000  4.330000e+06        52294.117647  \n",
       "50%        2.000000    93.000000  5.511689e+06        61271.466667  \n",
       "75%        2.000000   129.000000  7.700000e+06        70175.438596  \n",
       "max        4.000000  7210.000000  2.233000e+07       150514.818182  "
      ]
     },
     "execution_count": 13,
     "metadata": {},
     "output_type": "execute_result"
    }
   ],
   "source": [
    "df.describe()"
   ]
  },
  {
   "cell_type": "markdown",
   "id": "71fdd561-6d40-4d6b-85b0-d5c1dd9bd247",
   "metadata": {},
   "source": [
    "Rápidamente nos damos cuenta que el campo \"age_in_years\" contiene un único valor: 0, de manera que procederemos a excluirlo de nuestro análisis ya que no nos aportará nada."
   ]
  },
  {
   "cell_type": "markdown",
   "id": "e0324537-04f1-4077-b898-0da4a0161ab3",
   "metadata": {},
   "source": [
    "De igual manera, observamos como las columnas de \"final_price\" y \"price_mod\" contienen los mismos valores, vamos a comprobarlo"
   ]
  },
  {
   "cell_type": "code",
   "execution_count": 14,
   "id": "ca7eeeb6-2f6b-4dd0-8be5-3b7c8e8e8711",
   "metadata": {},
   "outputs": [
    {
     "data": {
      "text/plain": [
       "0"
      ]
     },
     "execution_count": 14,
     "metadata": {},
     "output_type": "execute_result"
    }
   ],
   "source": [
    "df[df['final_price'] != df['price_mod']].count()[0]"
   ]
  },
  {
   "cell_type": "markdown",
   "id": "973f0508-08cc-4716-ad59-3559ecfd6f7a",
   "metadata": {},
   "source": [
    "Exactamente, todos los valores de \"final_price\" y \"price_mod\" son identicos, eliminaremos entonces \"price_mod\" de nuestro análisis ya que no nos aportará nada."
   ]
  },
  {
   "cell_type": "markdown",
   "id": "d26b6b89-d1d0-466a-9689-9a02ad08cf56",
   "metadata": {},
   "source": [
    "Tenemos algunos campos que no serán relevantes para nuestro análisis y por consiguiente los eliminaremos, estos son:\n",
    "\n",
    "    - main_name\n",
    "    - subtitle\n",
    "    - link\n",
    "    - location (este campo se podría considerar en un análisis futuro que involucre técnicas de NLP)\n",
    "    - price (este ya se encuentra en la columna \"final_price\")\n",
    "    - attributes (este ya se encuentra en \"m2\")\n",
    "    - timestamp\n",
    "    - id\n",
    "    - address (este campo se podría considerar en un análisis futuro que involucre técnicas de NLP)\n",
    "    - since\n",
    "    - description (este campo se podría considerar en un análisis futuro que involucre técnicas de NLP)\n",
    "    - vendor\n",
    "    - lat\n",
    "    - lon\n",
    "    - price_currency\n",
    "    - since_period"
   ]
  },
  {
   "cell_type": "markdown",
   "id": "99fbc30c-c28b-4f83-877d-3942874a516c",
   "metadata": {
    "tags": []
   },
   "source": [
    "Y nos quedaremos con:\n",
    "\n",
    "    - lat                 981 non-null    float64\n",
    "    - lon                 981 non-null    float64\n",
    "    - price_mod           981 non-null    float64\n",
    "    - since_value         981 non-null    int64  \n",
    "    - days_on_site        981 non-null    float64\n",
    "    - amenities           981 non-null    float64\n",
    "    - age_in_years        981 non-null    float64\n",
    "    - bathrooms           981 non-null    float64\n",
    "    - parking_lots        981 non-null    int64  \n",
    "    - num_bedrooms        981 non-null    float64\n",
    "    - m2                  981 non-null    float64\n",
    "    - final_price         981 non-null    float64\n",
    "    - price_square_meter  981 non-null    float64"
   ]
  },
  {
   "cell_type": "code",
   "execution_count": 15,
   "id": "0fdc2ee5-ee16-48aa-8256-b482e886a644",
   "metadata": {},
   "outputs": [],
   "source": [
    "fields = ['since_value', 'days_on_site', 'amenities', \n",
    "          'bathrooms', 'parking_lots', 'num_bedrooms', 'm2', 'final_price', \n",
    "          'price_square_meter']"
   ]
  },
  {
   "cell_type": "markdown",
   "id": "48546071-ef55-420c-9cbe-74ec64acce75",
   "metadata": {
    "tags": []
   },
   "source": [
    "Nuestra variable objetivo (a calcular o target) será \"price_square_meter\", porque es lo pedido en el reto, nuestra correlación de variables se calculará tomando en cuenta eso."
   ]
  },
  {
   "cell_type": "markdown",
   "id": "c2bc7f3a-b650-4d34-af30-1439eae84524",
   "metadata": {},
   "source": [
    "#### A continuación dividimos nuestro dataset"
   ]
  },
  {
   "cell_type": "code",
   "execution_count": 16,
   "id": "1e2b221e-43d4-48b6-9307-79addfade7ce",
   "metadata": {},
   "outputs": [],
   "source": [
    "df = df[fields]\n",
    "X = df.copy()\n",
    "y = X.pop(\"price_square_meter\")"
   ]
  },
  {
   "cell_type": "code",
   "execution_count": 17,
   "id": "a33bb075-aa4a-4e4a-bdbf-2b6e68042e34",
   "metadata": {},
   "outputs": [
    {
     "name": "stdout",
     "output_type": "stream",
     "text": [
      "<class 'pandas.core.frame.DataFrame'>\n",
      "RangeIndex: 981 entries, 0 to 980\n",
      "Data columns (total 8 columns):\n",
      " #   Column        Non-Null Count  Dtype  \n",
      "---  ------        --------------  -----  \n",
      " 0   since_value   981 non-null    int64  \n",
      " 1   days_on_site  981 non-null    float64\n",
      " 2   amenities     981 non-null    float64\n",
      " 3   bathrooms     981 non-null    float64\n",
      " 4   parking_lots  981 non-null    int64  \n",
      " 5   num_bedrooms  981 non-null    float64\n",
      " 6   m2            981 non-null    float64\n",
      " 7   final_price   981 non-null    float64\n",
      "dtypes: float64(6), int64(2)\n",
      "memory usage: 61.4 KB\n"
     ]
    }
   ],
   "source": [
    "X.info()"
   ]
  },
  {
   "cell_type": "markdown",
   "id": "bc7beb02-cd80-4f10-9a9d-58154624e423",
   "metadata": {},
   "source": [
    "#### 1.2 Distribución de los datos"
   ]
  },
  {
   "cell_type": "code",
   "execution_count": 18,
   "id": "69d67f6c-ff9d-431d-a322-c29728845f1f",
   "metadata": {},
   "outputs": [
    {
     "data": {
      "image/png": "[encoded data removed]",
      "text/plain": [
       "<Figure size 1152x2520 with 8 Axes>"
      ]
     },
     "metadata": {
      "needs_background": "light"
     },
     "output_type": "display_data"
    }
   ],
   "source": [
    "l = list(X.columns)\n",
    "number_of_columns=len(X.columns.values)\n",
    "number_of_rows = int(len(l)-1/number_of_columns)\n",
    "plt.figure(figsize=(2*number_of_columns,5*number_of_rows))\n",
    "for i in range(0,len(l)):\n",
    "    plt.subplot(number_of_rows + 1,number_of_columns,i+1)\n",
    "    sns.distplot(X[l[i]], kde=True) "
   ]
  },
  {
   "cell_type": "markdown",
   "id": "3a6cf06e-8e9b-491a-b88a-842cf07d9d34",
   "metadata": {},
   "source": [
    "Nuestra distribuciones muetran que son bastante parecidas a la Distribución Uniforme (si cambiaramos la escala lo veríamos mejor), si decidieramos hacer machine learning, se esperaría que los métodos estadísticos dieran buenos resultados."
   ]
  },
  {
   "cell_type": "markdown",
   "id": "5046b594-8eca-475f-affa-8f98e4eaa7a1",
   "metadata": {},
   "source": [
    "#### 1.3 Manejando los Outliers"
   ]
  },
  {
   "cell_type": "markdown",
   "id": "c731c2c9-815c-4678-be16-0bd972a00c2e",
   "metadata": {},
   "source": [
    "Analizaremos los Outliers de algunos de los campos"
   ]
  },
  {
   "cell_type": "code",
   "execution_count": 19,
   "id": "a61d6055-53b5-4c3a-9fa0-1dd9da8d8d92",
   "metadata": {},
   "outputs": [],
   "source": [
    "# Función para detectar outliers\n",
    "def find_anomalies(data):\n",
    "\n",
    "    anomalies = []\n",
    "    no_anomalies = []\n",
    "\n",
    "    # Nuestro límite será 2 desviaciones estándar\n",
    "    data_std = data.std()\n",
    "    data_mean = data.mean()\n",
    "    anomaly_cut_off = data_std * 2\n",
    "    lower_limit  = data_mean - anomaly_cut_off \n",
    "    upper_limit = data_mean + anomaly_cut_off\n",
    "    print(f\"Lower limit: {lower_limit.iloc[0]}\")\n",
    "    print(f\"Upper limit: {upper_limit.iloc[0]}\")\n",
    "\n",
    "    # Generamos los outliers\n",
    "    for index, row in data.iterrows():\n",
    "        outlier = row # Obtenemos la primera columna\n",
    "        if (outlier.iloc[0] > upper_limit.iloc[0]) or (outlier.iloc[0] < lower_limit.iloc[0]):\n",
    "            anomalies.append((index, outlier))\n",
    "        else:\n",
    "            no_anomalies.append((index, outlier))\n",
    "    return ((anomalies, no_anomalies))"
   ]
  },
  {
   "cell_type": "markdown",
   "id": "79a11fd3-3907-4cd2-beff-15d91b05f0fd",
   "metadata": {},
   "source": [
    "Outliers en \"days_on_site\""
   ]
  },
  {
   "cell_type": "code",
   "execution_count": 20,
   "id": "41f8cb77-ac03-44cd-811f-de27631ea9ea",
   "metadata": {},
   "outputs": [
    {
     "name": "stdout",
     "output_type": "stream",
     "text": [
      "Lower limit: -130.10131145986512\n",
      "Upper limit: 337.0574786362158\n",
      "Number of records with anomalies: 66\n",
      "Number of records with NO anomalies: 915\n"
     ]
    }
   ],
   "source": [
    "anomalies_days_on_site, no_anomalies_days_on_site = find_anomalies(X.set_index('since_value')[['days_on_site']])\n",
    "print(f\"Number of records with anomalies: {len(anomalies_days_on_site)}\")\n",
    "print(f\"Number of records with NO anomalies: {len(no_anomalies_days_on_site)}\")"
   ]
  },
  {
   "cell_type": "markdown",
   "id": "bf3ce79b-ac4c-40fa-8a8e-7b7f1cccbc26",
   "metadata": {},
   "source": [
    "Outliers en \"amenities\""
   ]
  },
  {
   "cell_type": "code",
   "execution_count": 21,
   "id": "2434f922-23d2-4a64-9951-4f26af77687d",
   "metadata": {},
   "outputs": [
    {
     "name": "stdout",
     "output_type": "stream",
     "text": [
      "Lower limit: 2.228817684512345\n",
      "Upper limit: 5.85477049081895\n",
      "Number of records with anomalies: 128\n",
      "Number of records with NO anomalies: 853\n"
     ]
    }
   ],
   "source": [
    "anomalies_amenities, no_anomalies_amenities = find_anomalies(X.set_index('since_value')[['amenities']])\n",
    "print(f\"Number of records with anomalies: {len(anomalies_amenities)}\")\n",
    "print(f\"Number of records with NO anomalies: {len(no_anomalies_amenities)}\")"
   ]
  },
  {
   "cell_type": "markdown",
   "id": "1fd9d56c-d262-4e39-87b3-5dfd3950f0d1",
   "metadata": {},
   "source": [
    "Outliers en \"bathrooms\""
   ]
  },
  {
   "cell_type": "code",
   "execution_count": 22,
   "id": "c3150fea-fc89-435f-a476-3b43dd622a9a",
   "metadata": {},
   "outputs": [
    {
     "name": "stdout",
     "output_type": "stream",
     "text": [
      "Lower limit: 0.19516288364807832\n",
      "Upper limit: 3.7457137728249084\n",
      "Number of records with anomalies: 12\n",
      "Number of records with NO anomalies: 969\n"
     ]
    }
   ],
   "source": [
    "anomalies_bathrooms, no_anomalies_bathrooms = find_anomalies(X.set_index('since_value')[['bathrooms']])\n",
    "print(f\"Number of records with anomalies: {len(anomalies_bathrooms)}\")\n",
    "print(f\"Number of records with NO anomalies: {len(no_anomalies_bathrooms)}\")"
   ]
  },
  {
   "cell_type": "markdown",
   "id": "ced1ab7e-143a-409e-8ecf-3d4b8e9afc27",
   "metadata": {},
   "source": [
    "Outliers en \"parking_lots\""
   ]
  },
  {
   "cell_type": "code",
   "execution_count": 23,
   "id": "afb23bb2-3924-4f63-8ba6-2415fa662ca6",
   "metadata": {},
   "outputs": [
    {
     "name": "stdout",
     "output_type": "stream",
     "text": [
      "Lower limit: 0.3680321649254005\n",
      "Upper limit: 2.294557029773886\n",
      "Number of records with anomalies: 5\n",
      "Number of records with NO anomalies: 976\n"
     ]
    }
   ],
   "source": [
    "anomalies_parking_lots, no_anomalies_parking_lots = find_anomalies(X.set_index('since_value')[['parking_lots']])\n",
    "print(f\"Number of records with anomalies: {len(anomalies_parking_lots)}\")\n",
    "print(f\"Number of records with NO anomalies: {len(no_anomalies_parking_lots)}\")"
   ]
  },
  {
   "cell_type": "markdown",
   "id": "fd6cd6d3-3d2e-4c5f-9e9a-282f400d8886",
   "metadata": {},
   "source": [
    "Outliers en \"num_bedrooms\""
   ]
  },
  {
   "cell_type": "code",
   "execution_count": 24,
   "id": "52b35ef1-3229-4a30-8382-acd6981927dc",
   "metadata": {},
   "outputs": [
    {
     "name": "stdout",
     "output_type": "stream",
     "text": [
      "Lower limit: 0.8497671167675245\n",
      "Upper limit: 3.358183953568867\n",
      "Number of records with anomalies: 3\n",
      "Number of records with NO anomalies: 978\n"
     ]
    }
   ],
   "source": [
    "anomalies_num_bedrooms, no_anomalies_num_bedrooms = find_anomalies(X.set_index('since_value')[['num_bedrooms']])\n",
    "print(f\"Number of records with anomalies: {len(anomalies_num_bedrooms)}\")\n",
    "print(f\"Number of records with NO anomalies: {len(no_anomalies_num_bedrooms)}\")"
   ]
  },
  {
   "cell_type": "markdown",
   "id": "93f18307-8efc-4706-a57b-cd97a9234921",
   "metadata": {},
   "source": [
    "Outliers en \"m2\""
   ]
  },
  {
   "cell_type": "code",
   "execution_count": 25,
   "id": "77c31744-7301-4c9c-87a7-e319d48b88f7",
   "metadata": {},
   "outputs": [
    {
     "name": "stdout",
     "output_type": "stream",
     "text": [
      "Lower limit: -351.383980442227\n",
      "Upper limit: 575.0331955288733\n",
      "Number of records with anomalies: 1\n",
      "Number of records with NO anomalies: 980\n"
     ]
    }
   ],
   "source": [
    "anomalies_m2, no_anomalies_m2 = find_anomalies(X.set_index('since_value')[['m2']])\n",
    "print(f\"Number of records with anomalies: {len(anomalies_m2)}\")\n",
    "print(f\"Number of records with NO anomalies: {len(no_anomalies_m2)}\")"
   ]
  },
  {
   "cell_type": "markdown",
   "id": "5298c708-4808-4fa3-ad32-41b00058a707",
   "metadata": {},
   "source": [
    "Outliers en \"final_price\""
   ]
  },
  {
   "cell_type": "code",
   "execution_count": 26,
   "id": "5b13f1ba-3ef0-4d42-a690-ca6441556b36",
   "metadata": {},
   "outputs": [
    {
     "name": "stdout",
     "output_type": "stream",
     "text": [
      "Lower limit: 330442.2702482743\n",
      "Upper limit: 11958797.485103406\n",
      "Number of records with anomalies: 45\n",
      "Number of records with NO anomalies: 936\n"
     ]
    }
   ],
   "source": [
    "anomalies_final_price, no_anomalies_final_price = find_anomalies(X.set_index('since_value')[['final_price']])\n",
    "print(f\"Number of records with anomalies: {len(anomalies_final_price)}\")\n",
    "print(f\"Number of records with NO anomalies: {len(no_anomalies_final_price)}\")"
   ]
  },
  {
   "cell_type": "code",
   "execution_count": 27,
   "id": "ae25ceca-0511-4af3-b46c-fc6bd2149993",
   "metadata": {},
   "outputs": [
    {
     "data": {
      "image/png": "[encoded data removed]",
      "text/plain": [
       "<Figure size 576x2520 with 8 Axes>"
      ]
     },
     "metadata": {
      "needs_background": "light"
     },
     "output_type": "display_data"
    }
   ],
   "source": [
    "l = list(X.columns)\n",
    "number_of_columns=len(X.columns.values)\n",
    "number_of_rows = int(len(l)-1/number_of_columns)\n",
    "plt.figure(figsize=(number_of_columns,5*number_of_rows))\n",
    "for i in range(0,len(l)):\n",
    "    plt.subplot(number_of_rows + 1,number_of_columns,i+1)\n",
    "    sns.set_style('whitegrid')\n",
    "    sns.boxplot(data=X[l[i]], color='green', orient='v').set(title=l[i])\n",
    "    plt.tight_layout()"
   ]
  },
  {
   "cell_type": "markdown",
   "id": "0d541ce2-2eb3-43ea-92d0-3a4c138b8aea",
   "metadata": {},
   "source": [
    "#### NOTA:\n",
    "Tenemos valores atípicos en todos los campos, solo los reportaré, no los eliminaré y no les daré un tratamiento especial (como asignarles la media o la moda) porque No sé si estos valores se pueden tomar como normales o si realmente son valores atípicos ya que no conozco a profundidad las políticas que se deben llevar a cabo con estos valores en este ejercicio."
   ]
  },
  {
   "cell_type": "markdown",
   "id": "64f491bb-7ed3-42cf-8526-efd8e0a853c1",
   "metadata": {},
   "source": [
    "#### 1.3 Normalización"
   ]
  },
  {
   "cell_type": "code",
   "execution_count": 28,
   "id": "09b48d2d-f057-4027-ba59-f00764220cde",
   "metadata": {},
   "outputs": [],
   "source": [
    "min_max_scaler = preprocessing.MinMaxScaler()\n",
    "features = list(X.columns)\n",
    "X[features] = min_max_scaler.fit_transform(X[features])"
   ]
  },
  {
   "cell_type": "code",
   "execution_count": 29,
   "id": "1ba82327-6303-46b8-9d32-16df9b35580c",
   "metadata": {},
   "outputs": [
    {
     "data": {
      "text/html": [
       "<div>\n",
       "<style scoped>\n",
       "    .dataframe tbody tr th:only-of-type {\n",
       "        vertical-align: middle;\n",
       "    }\n",
       "\n",
       "    .dataframe tbody tr th {\n",
       "        vertical-align: top;\n",
       "    }\n",
       "\n",
       "    .dataframe thead th {\n",
       "        text-align: right;\n",
       "    }\n",
       "</style>\n",
       "<table border=\"1\" class=\"dataframe\">\n",
       "  <thead>\n",
       "    <tr style=\"text-align: right;\">\n",
       "      <th></th>\n",
       "      <th>since_value</th>\n",
       "      <th>days_on_site</th>\n",
       "      <th>amenities</th>\n",
       "      <th>bathrooms</th>\n",
       "      <th>parking_lots</th>\n",
       "      <th>num_bedrooms</th>\n",
       "      <th>m2</th>\n",
       "      <th>final_price</th>\n",
       "    </tr>\n",
       "  </thead>\n",
       "  <tbody>\n",
       "    <tr>\n",
       "      <th>0</th>\n",
       "      <td>0.068966</td>\n",
       "      <td>0.005487</td>\n",
       "      <td>0.285714</td>\n",
       "      <td>0.045455</td>\n",
       "      <td>0.5</td>\n",
       "      <td>0.333333</td>\n",
       "      <td>0.013372</td>\n",
       "      <td>0.385595</td>\n",
       "    </tr>\n",
       "    <tr>\n",
       "      <th>1</th>\n",
       "      <td>0.103448</td>\n",
       "      <td>0.008230</td>\n",
       "      <td>0.142857</td>\n",
       "      <td>0.000000</td>\n",
       "      <td>0.0</td>\n",
       "      <td>0.000000</td>\n",
       "      <td>0.003204</td>\n",
       "      <td>0.167304</td>\n",
       "    </tr>\n",
       "  </tbody>\n",
       "</table>\n",
       "</div>"
      ],
      "text/plain": [
       "   since_value  days_on_site  amenities  bathrooms  parking_lots  \\\n",
       "0     0.068966      0.005487   0.285714   0.045455           0.5   \n",
       "1     0.103448      0.008230   0.142857   0.000000           0.0   \n",
       "\n",
       "   num_bedrooms        m2  final_price  \n",
       "0      0.333333  0.013372     0.385595  \n",
       "1      0.000000  0.003204     0.167304  "
      ]
     },
     "execution_count": 29,
     "metadata": {},
     "output_type": "execute_result"
    }
   ],
   "source": [
    "X.head(2)"
   ]
  },
  {
   "cell_type": "markdown",
   "id": "5f120a8c-bee1-451e-8847-d70ef0e1d9ab",
   "metadata": {},
   "source": [
    "Tenemos las variables numéricas normalizadas"
   ]
  },
  {
   "cell_type": "markdown",
   "id": "024154f5-d015-4225-a974-0de0806e5e77",
   "metadata": {},
   "source": [
    "#### 1.5 Correlación"
   ]
  },
  {
   "cell_type": "code",
   "execution_count": 30,
   "id": "e5d1f421-498e-4cdc-b7ed-4645ffbdf39f",
   "metadata": {},
   "outputs": [],
   "source": [
    "df_corr = pd.concat([X, y], axis = 1)"
   ]
  },
  {
   "cell_type": "code",
   "execution_count": 31,
   "id": "3e9f82f3-18ee-4de4-b2e8-a8f996c172b6",
   "metadata": {},
   "outputs": [
    {
     "data": {
      "text/plain": [
       "<AxesSubplot:title={'center':'Pearson correlation'}>"
      ]
     },
     "execution_count": 31,
     "metadata": {},
     "output_type": "execute_result"
    },
    {
     "data": {
      "image/png": "[encoded data removed]",
      "text/plain": [
       "<Figure size 1512x432 with 2 Axes>"
      ]
     },
     "metadata": {},
     "output_type": "display_data"
    }
   ],
   "source": [
    "k = len(df_corr.columns) # Número de variables para el heatmap\n",
    "cols = df_corr.corr().nlargest(k, 'price_square_meter')['price_square_meter'].index\n",
    "cm = df_corr[cols].corr()\n",
    "plt.figure(figsize=(21,6))\n",
    "plt.title(\"Pearson correlation\")\n",
    "sns.heatmap(cm, annot=True, cmap = 'Reds')"
   ]
  },
  {
   "cell_type": "markdown",
   "id": "de887fde-fda4-421f-99b1-a03919086912",
   "metadata": {},
   "source": [
    "Según la bibliografía que investigué, los factores que influyen en el precio de una vivienda viene dado por:\n",
    "\n",
    "    - Factores Externos:\n",
    "        - Zona de la ciudad\n",
    "        - Servicios próximos\n",
    "        - Situación del mercado\n",
    "    - Factores Internos:\n",
    "        - Estado del inmueble y metros disponibles\n",
    "        - Número de habitaciones y distribución\n",
    "        - Instalaciones y zona de uso\n",
    "        \n",
    "Pero acá hablamos del precio por metro cuadrado.\n",
    "\n",
    "Podemos apreciar en el HeatMap de correlación como la características que mejor explica el precio por metro cuadrado de cada vivienda es \"final_price\" (0.4) y es lógico porque el precio por metro cudrado es la resulta de dividir el precio final entre la cantidad de metros cuadrados. \n",
    "\n",
    "Además, el número de cuartos (num_bedrooms) también tiene cierta relación inversa (-0.29), el resto de las características no poseen correlación importante con el precio por metro cuadrado (price_square_meter).\n",
    "\n",
    "Esto al menos sucede con este dataset."
   ]
  },
  {
   "cell_type": "markdown",
   "id": "7bf07e4b-1920-4cf0-a94a-56d45bc9d2c9",
   "metadata": {},
   "source": [
    "#### 1.6 Mejores características con el método \"SelectKBest\", otro punto de vista."
   ]
  },
  {
   "cell_type": "markdown",
   "id": "93e48d27-7b0c-4f26-9713-2e83592d323a",
   "metadata": {},
   "source": [
    "Para crear una instancia de SelectKBest es necesario indicar la métrica que se desea emplear para el problema y el número de características finales. Como métrica, generalmente se usa la función f_regression en los problemas de regresión y chi2 en los de clasificación"
   ]
  },
  {
   "cell_type": "code",
   "execution_count": 32,
   "id": "f495a196-782b-4e8f-8027-7d7f091db9fd",
   "metadata": {},
   "outputs": [
    {
     "name": "stdout",
     "output_type": "stream",
     "text": [
      "\n",
      "       BEST FEATURES\n",
      "===========================\n",
      "\n",
      "          Specs       Score\n",
      "7   final_price  181.934488\n",
      "5  num_bedrooms   91.782248\n",
      "2     amenities   29.060891\n",
      "6            m2   23.325223\n",
      "1  days_on_site    3.776674\n",
      "4  parking_lots    3.282764\n",
      "3     bathrooms    2.972266\n",
      "0   since_value    0.042992\n"
     ]
    }
   ],
   "source": [
    "# Aplicamos SelectKBest para extraer las mejores características\n",
    "bestfeatures = SelectKBest(score_func=f_regression, k='all')\n",
    "\n",
    "seleccion = list(X.columns)\n",
    "fit = bestfeatures.fit(X[seleccion],y)\n",
    "dfscores = pd.DataFrame(fit.scores_)\n",
    "dfcolumns = pd.DataFrame(X[features].columns)\n",
    "\n",
    "# Concatenamos los 2 dataframes para una mejor visualización \n",
    "featureScores = pd.concat([dfcolumns,dfscores],axis=1)\n",
    "featureScores.columns = ['Specs','Score']  \n",
    "print(\"\\n       BEST FEATURES\")\n",
    "print(\"===========================\\n\")\n",
    "print(featureScores.nlargest(20,'Score'))  # Desplegamos las mejores características"
   ]
  },
  {
   "cell_type": "markdown",
   "id": "bea60d80-46e1-4cba-9bf8-809cd028584f",
   "metadata": {},
   "source": [
    "Usando el método de regresión se puede apreciar mejor, vemos como el precio final (final_proce) sigue siendo el principal factor para determinar el precio por metro cuadrado, seguido del número de cuartos (num_bedrooms), las comodidades (amenities) y los metros cuadrados (m2).\n",
    "\n",
    "Lógicamente mientras una vivienda tenga mas cuartos y comodidades se cotizará mejor el precio del metro cuadrado."
   ]
  },
  {
   "cell_type": "code",
   "execution_count": 55,
   "id": "6f1d84f7-b06e-4d5c-a636-e0223b4ff7d0",
   "metadata": {},
   "outputs": [
    {
     "data": {
      "image/png": "[encoded data removed]",
      "text/plain": [
       "<Figure size 432x288 with 1 Axes>"
      ]
     },
     "metadata": {
      "needs_background": "light"
     },
     "output_type": "display_data"
    }
   ],
   "source": [
    "featureScores.sort_values(by='Score', ascending=False).plot(kind=\"bar\", \n",
    "                                                            x=\"Specs\", \n",
    "                                                            colormap='Paired')\n",
    "                                                            \n",
    "plt.title(\"Factores que influyen en el precio por metro cuadrado de cada vivienda\")\n",
    "plt.xlabel(\"Factor\")\n",
    "plt.ylabel(\"Importancia\")\n",
    "\n",
    "plt.show()"
   ]
  },
  {
   "cell_type": "code",
   "execution_count": null,
   "id": "5fad20ad-4cdc-4ad7-a4ef-b68890cdd3f8",
   "metadata": {},
   "outputs": [],
   "source": []
  }
 ],
 "metadata": {
  "kernelspec": {
   "display_name": "Python 3 (ipykernel)",
   "language": "python",
   "name": "python3"
  },
  "language_info": {
   "codemirror_mode": {
    "name": "ipython",
    "version": 3
   },
   "file_extension": ".py",
   "mimetype": "text/x-python",
   "name": "python",
   "nbconvert_exporter": "python",
   "pygments_lexer": "ipython3",
   "version": "3.7.12"
  }
 },
 "nbformat": 4,
 "nbformat_minor": 5
}
